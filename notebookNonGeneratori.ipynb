{
 "metadata": {
  "language_info": {
   "codemirror_mode": {
    "name": "ipython",
    "version": 3
   },
   "file_extension": ".py",
   "mimetype": "text/x-python",
   "name": "python",
   "nbconvert_exporter": "python",
   "pygments_lexer": "ipython3",
   "version": "3.8.5-final"
  },
  "orig_nbformat": 2,
  "kernelspec": {
   "name": "python385jvsc74a57bd091f6f6ca4e4af994ca7fddbc99ad1b970f9ddbf4168e98e8dd5c2833fa21365e",
   "display_name": "Python 3.8.5 64-bit (conda)"
  }
 },
 "nbformat": 4,
 "nbformat_minor": 2,
 "cells": [
  {
   "cell_type": "code",
   "execution_count": 1,
   "metadata": {},
   "outputs": [],
   "source": [
    "import csv\n",
    "from memory_profiler import profile"
   ]
  },
  {
   "cell_type": "code",
   "execution_count": 2,
   "metadata": {},
   "outputs": [],
   "source": [
    "#Funzinoe per filtrare partite dei mondiali\n",
    "def filtering(row):\n",
    "    return row[5] == \"FIFA World Cup\" #Filters per Wolrd Cup games only"
   ]
  },
  {
   "cell_type": "code",
   "execution_count": 3,
   "metadata": {},
   "outputs": [],
   "source": [
    "fields = []\n",
    "matches = []\n",
    "#apertura del csv ed estrazione delle righe in lista matches\n",
    "with open(\"results.csv\", 'r', encoding=\"utf8\") as csvfile:\n",
    "    csvreader = csv.reader(csvfile)\n",
    "\n",
    "    fields = next(csvreader)\n",
    "\n",
    "    for match in csvreader:\n",
    "        matches.append(match)\n",
    "\n",
    "#Filtrare partite\n",
    "worldcup_matches = list(filter(filtering, matches))\n",
    "#Lista di dizionari con una partita ciascuno\n",
    "dictionaries = []\n",
    "\n",
    "for match in worldcup_matches:\n",
    "    dictionaries.append({\n",
    "        \"date\" : match[0],\n",
    "        \"home team\" : match[1],\n",
    "        \"away team\" : match[2],\n",
    "        \"home score\" : match[3],\n",
    "        \"away score\" : match[4],\n",
    "        \"tournament\" : match[5],\n",
    "        \"city\" : match[6],\n",
    "        \"country\" : match[7],\n",
    "        \"neutral\" : match[8],\n",
    "    })\n",
    "\n"
   ]
  },
  {
   "cell_type": "code",
   "execution_count": 4,
   "metadata": {},
   "outputs": [
    {
     "output_type": "stream",
     "name": "stdout",
     "text": [
      "Gol totali fatti dall'italia: 128\n"
     ]
    }
   ],
   "source": [
    "#conteggio gol dell'italia iterando tutta la lista di dizionari#\n",
    "italy_goals_count = 0\n",
    "\n",
    "for match in dictionaries:\n",
    "    if(match['home team'] == \"Italy\"):\n",
    "        italy_goals_count += int(match['home score'])\n",
    "    elif(match['away team'] == \"Italy\"):\n",
    "        italy_goals_count += int(match['away score'])\n",
    "\n",
    "print(f\"Gol totali fatti dall'italia: {italy_goals_count}\")\n"
   ]
  }
 ]
}