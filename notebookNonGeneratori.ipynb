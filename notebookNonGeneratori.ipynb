{
 "metadata": {
  "language_info": {
   "codemirror_mode": {
    "name": "ipython",
    "version": 3
   },
   "file_extension": ".py",
   "mimetype": "text/x-python",
   "name": "python",
   "nbconvert_exporter": "python",
   "pygments_lexer": "ipython3",
   "version": "3.7.6-final"
  },
  "orig_nbformat": 2,
  "kernelspec": {
   "name": "python376jvsc74a57bd0c5e48f84046969b800ff52f6d80523bcd1ca3fb1a99f1449e4197bf6c73dc096",
   "display_name": "Python 3.7.6 64-bit ('Lenovo': virtualenv)"
  }
 },
 "nbformat": 4,
 "nbformat_minor": 2,
 "cells": [
  {
   "cell_type": "code",
   "execution_count": 1,
   "metadata": {},
   "outputs": [
    {
     "output_type": "error",
     "ename": "ModuleNotFoundError",
     "evalue": "No module named 'memory_profiler'",
     "traceback": [
      "\u001b[1;31m---------------------------------------------------------------------------\u001b[0m",
      "\u001b[1;31mModuleNotFoundError\u001b[0m                       Traceback (most recent call last)",
      "\u001b[1;32m<ipython-input-1-45461aa806fe>\u001b[0m in \u001b[0;36m<module>\u001b[1;34m\u001b[0m\n\u001b[0;32m      1\u001b[0m \u001b[1;32mimport\u001b[0m \u001b[0mcsv\u001b[0m\u001b[1;33m\u001b[0m\u001b[1;33m\u001b[0m\u001b[0m\n\u001b[1;32m----> 2\u001b[1;33m \u001b[1;32mfrom\u001b[0m \u001b[0mmemory_profiler\u001b[0m \u001b[1;32mimport\u001b[0m \u001b[0mprofile\u001b[0m\u001b[1;33m\u001b[0m\u001b[1;33m\u001b[0m\u001b[0m\n\u001b[0m",
      "\u001b[1;31mModuleNotFoundError\u001b[0m: No module named 'memory_profiler'"
     ]
    }
   ],
   "source": [
    "import csv\n",
    "from memory_profiler import profile"
   ]
  },
  {
   "cell_type": "code",
   "execution_count": 2,
   "metadata": {},
   "outputs": [],
   "source": [
    "#Funzinoe per filtrare partite dei mondiali\n",
    "def filtering(row):\n",
    "    return row[5] == \"FIFA World Cup\" #Filters per Wolrd Cup games only"
   ]
  },
  {
   "cell_type": "code",
   "execution_count": null,
   "metadata": {},
   "outputs": [],
   "source": [
    "fields = []\n",
    "matches = []\n",
    "#apertura del csv ed estrazione delle righe in lista matches\n",
    "with open(\"results.csv\", 'r', encoding=\"utf8\") as csvfile:\n",
    "    csvreader = csv.reader(csvfile)\n",
    "\n",
    "    fields = next(csvreader)\n",
    "\n",
    "    for match in csvreader:\n",
    "        matches.append(match)\n",
    "\n",
    "#Filtrare partite\n",
    "worldcup_matches = list(filter(filtering, matches))\n",
    "#Lista di dizionari con una partita ciascuno\n",
    "dictionaries = []\n",
    "\n",
    "for match in worldcup_matches:\n",
    "    dictionaries.append({\n",
    "        \"date\" : match[0],\n",
    "        \"home team\" : match[1],\n",
    "        \"away team\" : match[2],\n",
    "        \"home score\" : match[3],\n",
    "        \"away score\" : match[4],\n",
    "        \"tournament\" : match[5],\n",
    "        \"city\" : match[6],\n",
    "        \"country\" : match[7],\n",
    "        \"neutral\" : match[8],\n",
    "    })\n",
    "\n"
   ]
  },
  {
   "cell_type": "code",
   "execution_count": null,
   "metadata": {},
   "outputs": [],
   "source": [
    "#conteggio gol dell'italia iterando tutta la lista di dizionari#\n",
    "italy_goals_count = 0\n",
    "\n",
    "for match in dictionaries:\n",
    "    if(match['home team'] == \"Italy\"):\n",
    "        italy_goals_count += int(match['home score'])\n",
    "    elif(match['away team'] == \"Italy\"):\n",
    "        italy_goals_count += int(match['away score'])\n",
    "\n",
    "print(italy_goals_count)\n"
   ]
  }
 ]
}