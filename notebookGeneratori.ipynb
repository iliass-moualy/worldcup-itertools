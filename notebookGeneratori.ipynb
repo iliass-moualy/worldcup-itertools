{
 "metadata": {
  "language_info": {
   "codemirror_mode": {
    "name": "ipython",
    "version": 3
   },
   "file_extension": ".py",
   "mimetype": "text/x-python",
   "name": "python",
   "nbconvert_exporter": "python",
   "pygments_lexer": "ipython3",
   "version": "3.7.6-final"
  },
  "orig_nbformat": 2,
  "kernelspec": {
   "name": "python376jvsc74a57bd0c5e48f84046969b800ff52f6d80523bcd1ca3fb1a99f1449e4197bf6c73dc096",
   "display_name": "Python 3.7.6 64-bit ('Lenovo': virtualenv)"
  }
 },
 "nbformat": 4,
 "nbformat_minor": 2,
 "cells": [
  {
   "cell_type": "code",
   "execution_count": 3,
   "metadata": {},
   "outputs": [
    {
     "output_type": "error",
     "ename": "ModuleNotFoundError",
     "evalue": "No module named 'memory_profiler'",
     "traceback": [
      "\u001b[1;31m---------------------------------------------------------------------------\u001b[0m",
      "\u001b[1;31mModuleNotFoundError\u001b[0m                       Traceback (most recent call last)",
      "\u001b[1;32m<ipython-input-3-244c2c061856>\u001b[0m in \u001b[0;36m<module>\u001b[1;34m\u001b[0m\n\u001b[0;32m      1\u001b[0m \u001b[1;32mimport\u001b[0m \u001b[0mcsv\u001b[0m\u001b[1;33m\u001b[0m\u001b[1;33m\u001b[0m\u001b[0m\n\u001b[0;32m      2\u001b[0m \u001b[1;32mimport\u001b[0m \u001b[0mitertools\u001b[0m \u001b[1;32mas\u001b[0m \u001b[0mit\u001b[0m\u001b[1;33m\u001b[0m\u001b[1;33m\u001b[0m\u001b[0m\n\u001b[1;32m----> 3\u001b[1;33m \u001b[1;32mfrom\u001b[0m \u001b[0mmemory_profiler\u001b[0m \u001b[1;32mimport\u001b[0m \u001b[0mprofile\u001b[0m\u001b[1;33m\u001b[0m\u001b[1;33m\u001b[0m\u001b[0m\n\u001b[0m",
      "\u001b[1;31mModuleNotFoundError\u001b[0m: No module named 'memory_profiler'"
     ]
    }
   ],
   "source": [
    "import csv\n",
    "import itertools as it\n",
    "from memory_profiler import profile"
   ]
  },
  {
   "cell_type": "code",
   "execution_count": 2,
   "metadata": {},
   "outputs": [],
   "source": [
    "#Generatore per estrarre le partite riga per riga\n",
    "def get_worldcup_matches(csv_filename):\n",
    "    with open(csv_filename, \"r\", encoding=\"utf8\") as match_records:\n",
    "        for match_record in csv.reader(match_records):\n",
    "            yield match_record\n",
    "#Funzione per filtrare filtrare solo le partite dei mondiali\n",
    "def filtering(row):\n",
    "    return row[5] == \"FIFA World Cup\" #Filters per Wolrd Cup games only\n"
   ]
  },
  {
   "cell_type": "code",
   "execution_count": null,
   "metadata": {},
   "outputs": [],
   "source": [
    "#iteratore con le partite\n",
    "iter_matches = iter(get_worldcup_matches(\"results.csv\"))\n",
    "\n",
    "#iteratore con le partite dei mondiali\n",
    "iter_matches = filter(filtering, iter_matches)\n",
    "\n",
    "next(iter_matches)  # Skipping the column names\n",
    "\n",
    "#Creazione dizionari e lista di dizionari \n",
    "dictionaries = []\n",
    "listOfKeys=[\"date\",\"home team\",\"away team\",\"home score\",\"away score\",\"tournament\",\"city\",\"country\",\"neutral\"]\n",
    "\n",
    "for row in iter_matches:\n",
    "    dictionaries.append(dict(zip(listOfKeys,row)))\n",
    "\n",
    "\n",
    "#print(dictionaries)"
   ]
  },
  {
   "cell_type": "code",
   "execution_count": null,
   "metadata": {},
   "outputs": [],
   "source": [
    "#Conteggio gol fatti dall'italia nei campionati mondiali tramite generator expressions\n",
    "\n",
    "italy_goal_count = 0\n",
    "\n",
    "italy_goal_count = sum(int(m_dict['home score']) for m_dict in dictionaries if(m_dict['home team'] == \"Italy\"))\n",
    "\n",
    "italy_goal_count += sum(int(m_dict['away score']) for m_dict in dictionaries if(m_dict['away team'] == \"Italy\"))\n",
    "    \n",
    "#print(italy_goal_count)"
   ]
  }
 ]
}