{
 "metadata": {
  "language_info": {
   "codemirror_mode": {
    "name": "ipython",
    "version": 3
   },
   "file_extension": ".py",
   "mimetype": "text/x-python",
   "name": "python",
   "nbconvert_exporter": "python",
   "pygments_lexer": "ipython3",
   "version": "3.8.5-final"
  },
  "orig_nbformat": 2,
  "kernelspec": {
   "name": "python385jvsc74a57bd091f6f6ca4e4af994ca7fddbc99ad1b970f9ddbf4168e98e8dd5c2833fa21365e",
   "display_name": "Python 3.8.5 64-bit (conda)"
  }
 },
 "nbformat": 4,
 "nbformat_minor": 2,
 "cells": [
  {
   "cell_type": "code",
   "execution_count": 9,
   "metadata": {},
   "outputs": [],
   "source": [
    "import csv\n",
    "import itertools as it\n",
    "from memory_profiler import profile"
   ]
  },
  {
   "cell_type": "code",
   "execution_count": 10,
   "metadata": {},
   "outputs": [],
   "source": [
    "#Generatore per estrarre le partite riga per riga\n",
    "def get_worldcup_matches(csv_filename):\n",
    "    with open(csv_filename, \"r\", encoding=\"utf8\") as match_records:\n",
    "        for match_record in csv.reader(match_records):\n",
    "            yield match_record\n",
    "#Funzione per filtrare filtrare solo le partite dei mondiali\n",
    "def filtering(row):\n",
    "    return row[5] == \"FIFA World Cup\" #Filters per Wolrd Cup games only\n"
   ]
  },
  {
   "cell_type": "code",
   "execution_count": 11,
   "metadata": {},
   "outputs": [],
   "source": [
    "#iteratore con le partite\n",
    "iter_matches = iter(get_worldcup_matches(\"results.csv\"))\n",
    "\n",
    "#iteratore con le partite dei mondiali\n",
    "iter_matches = filter(filtering, iter_matches)\n",
    "\n",
    "next(iter_matches)  # Skipping the column names\n",
    "\n",
    "#Creazione dizionari e lista di dizionari \n",
    "dictionaries = []\n",
    "listOfKeys=[\"date\",\"home team\",\"away team\",\"home score\",\"away score\",\"tournament\",\"city\",\"country\",\"neutral\"]\n",
    "\n",
    "for row in iter_matches:\n",
    "    dictionaries.append(dict(zip(listOfKeys,row)))\n",
    "\n",
    "\n",
    "#print(dictionaries)"
   ]
  },
  {
   "cell_type": "code",
   "execution_count": 12,
   "metadata": {},
   "outputs": [
    {
     "output_type": "stream",
     "name": "stdout",
     "text": [
      "Gol totali fatti dall'italia: 128\n"
     ]
    }
   ],
   "source": [
    "#Conteggio gol fatti dall'italia nei campionati mondiali tramite generator expressions\n",
    "\n",
    "italy_goal_count = 0\n",
    "\n",
    "italy_goal_count = sum(int(m_dict['home score']) for m_dict in dictionaries if(m_dict['home team'] == \"Italy\"))\n",
    "\n",
    "italy_goal_count += sum(int(m_dict['away score']) for m_dict in dictionaries if(m_dict['away team'] == \"Italy\"))\n",
    "    \n",
    "print(f\"Gol totali fatti dall'italia: {italy_goal_count}\")"
   ]
  }
 ]
}